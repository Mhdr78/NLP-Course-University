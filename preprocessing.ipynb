{
 "cells": [
  {
   "cell_type": "code",
   "execution_count": 10,
   "id": "bfb8df33",
   "metadata": {},
   "outputs": [],
   "source": [
    "import docx\n",
    "import re\n",
    "import string"
   ]
  },
  {
   "cell_type": "code",
   "execution_count": 5,
   "id": "67b143b7",
   "metadata": {},
   "outputs": [],
   "source": [
    "# reading text from docx\n",
    "def getText(filename):\n",
    "    doc = docx.Document(filename)\n",
    "    fullText = []\n",
    "    for para in doc.paragraphs:\n",
    "        fullText.append(para.text)\n",
    "    return '\\n'.join(fullText)"
   ]
  },
  {
   "cell_type": "code",
   "execution_count": 15,
   "id": "5365b60a",
   "metadata": {},
   "outputs": [],
   "source": [
    "path = './data/almizan-2.docx'\n",
    "data = getText(path)"
   ]
  },
  {
   "cell_type": "code",
   "execution_count": 14,
   "id": "97dd18a1",
   "metadata": {},
   "outputs": [],
   "source": [
    "# tokenize and process the data\n",
    "def preprocessing_text(corpus):\n",
    "    # Punktuations are replaced by ' '\n",
    "    data = re.sub(r'[=*\":(),!؟;-]', ' ', corpus)\n",
    "    # Remove '،' by splitting\n",
    "    data = ' '.join(data.split('،'))\n",
    "    # Remove zameh kasreh fatheh\n",
    "    data = re.sub('[َُِّءًٌٍْ]', '', data)\n",
    "    # Remove digits\n",
    "    data = re.sub('[%s]' % re.escape(string.digits), '', data)\n",
    "    \n",
    "    data = data.split('\\n')\n",
    "    for i, line in enumerate(data):\n",
    "        data[i] = \" \".join(line.split())\n",
    "    final_data = []\n",
    "    # splitting sentences by .\n",
    "    for line in data:\n",
    "        tmp = line.split('. ')\n",
    "        for stmp in tmp:\n",
    "            # Do not count empty strings\n",
    "            if stmp != '':\n",
    "                final_data.append(stmp)\n",
    "    \n",
    "    return final_data"
   ]
  },
  {
   "cell_type": "code",
   "execution_count": 16,
   "id": "f00e829d",
   "metadata": {},
   "outputs": [],
   "source": [
    "data = preprocessing_text(data)"
   ]
  },
  {
   "cell_type": "code",
   "execution_count": 17,
   "id": "ede753de",
   "metadata": {},
   "outputs": [
    {
     "data": {
      "text/plain": [
       "['بسم الله الرحمن الرحيم',\n",
       " 'پايگاه قرآن شناسي حوزه علميه ميبد',\n",
       " 'تفسير الميزان',\n",
       " 'السيد الطباطبائي',\n",
       " 'الجز الثاني',\n",
       " 'سورة البقرة',\n",
       " 'يأيها الذين امنوا كتب عليكم الصيام كما كتب على الذين من قبلكم لعلكم تتقون أياما معدودت فمن كان منكم مريضا أو على سفر فعدة من أيام أخر و على الذين يطيقونه فدية طعام مسكين فمن تطوع خيرا فهو خير له و أن تصوموا خير لكم إن كنتم تعلمون شهر رمضان الذى أنزل فيه القران هدى للناس و بينت من الهدى و الفرقان فمن شهد منكم الشهر فليصمه و من كان مريضا أو على سفر فعدة من أيام أخر يريد الله بكم اليسر و لا يريد بكم العسر و لتكملوا العدة و لتكبروا الله على ما هداكم و لعلكم تشكرون',\n",
       " 'بيان',\n",
       " 'سياق الآيات الثلاث يدل أولا على أنها جميعا نازلة معا فإن قوله تعالى أياما معدودات في أول الآية الثانية ظرف متعلق بقوله الصيام في الآية الأولى و قوله تعالى شهر رمضان في الآية الثالثة إما خبر لمبتدإ محذوف و هو الضمير الراجع إلى قوله أياما معدودات و التقدير هي شهر رمضان أو مبتدأ لخبر محذوف و التقدير شهر رمضان هو الذي كتب عليكم صيامه أو هو بدل من الصيام في قوله كتب عليكم الصيام في الآية الأولى و على أي تقدير هو بيان و إيضاح للأيام المعدودات التي كتب فيها الصيام فالآيات الثلاث جميعا كلام واحد مسوق لغرض واحد و هو بيان فرض صوم شهر رمضان.',\n",
       " 'و سياق الآيات يدل ثانيا على أن شطرا من الكلام الموضوع في هذه الآيات الثلاث بمنزلة التوطئة و التمهيد بالنسبة إلى شطر آخر أعني أن الآيتين الأوليين سرد الكلام فيهما ليكون كالمقدمة التي تساق لتسكين طيش النفوس و الحصول على اطمينانها و استقرارها عن القلق و الاضطراب إذا كان غرض المتكلم بيان ما لا يؤمن فيه التخلف و التأبي عن القبول لكون ما يأتي من الحكم أو الخبر ثقيلا شاقا بطبعه على المخاطب و لذلك ترى الآيتين الأوليين تألف فيهما الكلام من جمل لا يخلو واحدة منها عن هداية ذهن المخاطب إلى تشريع صوم رمضان بإرفاق و ملامة بذكر ما يرتفع معه الاستيحاش و الاضطراب و يحصل به تطيب النفس و تنكسر به سورة الجماح و الاستكبار بالإشارة إلى أنواع من التخفيف و التسهيل روعيت في تشريع هذا الحكم مع ما فيه من الخير العاجل و الآجل.']"
      ]
     },
     "execution_count": 17,
     "metadata": {},
     "output_type": "execute_result"
    }
   ],
   "source": [
    "data[:10]"
   ]
  },
  {
   "cell_type": "code",
   "execution_count": 18,
   "id": "e32e572b",
   "metadata": {},
   "outputs": [],
   "source": [
    "# with open('./data/almizan_processed.txt', 'w', encoding='utf-8') as f:\n",
    "#     f.write('\\n'.join(data))"
   ]
  },
  {
   "cell_type": "code",
   "execution_count": null,
   "id": "12c77df6",
   "metadata": {},
   "outputs": [],
   "source": []
  }
 ],
 "metadata": {
  "kernelspec": {
   "display_name": "Python 3 (ipykernel)",
   "language": "python",
   "name": "python3"
  },
  "language_info": {
   "codemirror_mode": {
    "name": "ipython",
    "version": 3
   },
   "file_extension": ".py",
   "mimetype": "text/x-python",
   "name": "python",
   "nbconvert_exporter": "python",
   "pygments_lexer": "ipython3",
   "version": "3.9.7"
  }
 },
 "nbformat": 4,
 "nbformat_minor": 5
}
