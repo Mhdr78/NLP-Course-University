{
  "cells": [
    {
      "cell_type": "code",
      "execution_count": null,
      "metadata": {
        "id": "r4YJB6vJI_Yc"
      },
      "outputs": [],
      "source": [
        "import torch\n",
        "import torch.nn as nn\n",
        "from torch.autograd import Variable\n",
        "import torch.optim as optim\n",
        "import torch.nn.functional as F\n",
        "import nltk\n",
        "import random\n",
        "import numpy as np\n",
        "from collections import Counter\n",
        "import io\n",
        "\n",
        "flatten = lambda l: [item for sublist in l for item in sublist]\n",
        "random.seed(1024)"
      ]
    },
    {
      "cell_type": "code",
      "execution_count": null,
      "metadata": {
        "colab": {
          "base_uri": "https://localhost:8080/"
        },
        "id": "GQddrlKfI_Yh",
        "outputId": "b2f93289-bc1e-4434-da7f-2be91ab519b2"
      },
      "outputs": [
        {
          "output_type": "stream",
          "name": "stdout",
          "text": [
            "1.11.0+cu113\n",
            "3.2.5\n"
          ]
        }
      ],
      "source": [
        "print(torch.__version__)\n",
        "print(nltk.__version__)"
      ]
    },
    {
      "cell_type": "code",
      "execution_count": null,
      "metadata": {
        "collapsed": true,
        "id": "hQlm1SWbI_Yi"
      },
      "outputs": [],
      "source": [
        "USE_CUDA = torch.cuda.is_available()\n",
        "gpus = [0]\n",
        "#torch.cuda.set_device(gpus[0])\n",
        "\n",
        "FloatTensor = torch.cuda.FloatTensor if USE_CUDA else torch.FloatTensor\n",
        "LongTensor = torch.cuda.LongTensor if USE_CUDA else torch.LongTensor\n",
        "ByteTensor = torch.cuda.ByteTensor if USE_CUDA else torch.ByteTensor"
      ]
    },
    {
      "cell_type": "code",
      "execution_count": null,
      "metadata": {
        "collapsed": true,
        "id": "cM-6aQDiI_Yj"
      },
      "outputs": [],
      "source": [
        "def getBatch(batch_size, train_data):\n",
        "    random.shuffle(train_data)\n",
        "    sindex = 0\n",
        "    eindex = batch_size\n",
        "    while eindex < len(train_data):\n",
        "        batch = train_data[sindex: eindex]\n",
        "        temp = eindex\n",
        "        eindex = eindex + batch_size\n",
        "        sindex = temp\n",
        "        yield batch\n",
        "\n",
        "    if eindex >= len(train_data):\n",
        "        batch = train_data[sindex:]\n",
        "        yield batch"
      ]
    },
    {
      "cell_type": "code",
      "execution_count": null,
      "metadata": {
        "collapsed": true,
        "id": "f4zxyoUDI_Yk"
      },
      "outputs": [],
      "source": [
        "def prepare_sequence(seq, word2index):\n",
        "    idxs = list(map(lambda w: word2index[w] if word2index.get(w) is not None else word2index[\"<UNK>\"], seq))\n",
        "    return Variable(LongTensor(idxs))\n",
        "\n",
        "def prepare_word(word, word2index):\n",
        "    return Variable(LongTensor([word2index[word]]) if word2index.get(word) is not None else LongTensor([word2index[\"<UNK>\"]]))\n"
      ]
    },
    {
      "cell_type": "markdown",
      "metadata": {
        "id": "ZaEIxswUI_Yk"
      },
      "source": [
        "# Data Loading and Preprocessing"
      ]
    },
    {
      "cell_type": "code",
      "source": [
        "with open('/content/almizan_processed.txt', 'r', encoding='utf-8') as file:\n",
        "  corpus = file.readlines()\n",
        "\n",
        "corpus = ''.join(corpus).split('\\n')\n",
        "corpus = [[word for word in sent.split()] for sent in corpus]\n",
        "corpus[:2]"
      ],
      "metadata": {
        "colab": {
          "base_uri": "https://localhost:8080/"
        },
        "id": "HcxgI619OagP",
        "outputId": "3668873a-ad70-47b1-a01c-945f4f44822e"
      },
      "execution_count": null,
      "outputs": [
        {
          "output_type": "execute_result",
          "data": {
            "text/plain": [
              "[['بسم', 'الله', 'الرحمن', 'الرحيم'],\n",
              " ['پايگاه', 'قرآن', 'شناسي', 'حوزه', 'علميه', 'ميبد']]"
            ]
          },
          "metadata": {},
          "execution_count": 6
        }
      ]
    },
    {
      "cell_type": "markdown",
      "metadata": {
        "id": "ki9_sdwYI_Yn"
      },
      "source": [
        "## Remove Sparse words"
      ]
    },
    {
      "cell_type": "code",
      "execution_count": null,
      "metadata": {
        "collapsed": true,
        "id": "TsJ4fMXmI_Yo"
      },
      "outputs": [],
      "source": [
        "word_count = Counter(flatten(corpus))"
      ]
    },
    {
      "cell_type": "code",
      "execution_count": null,
      "metadata": {
        "collapsed": true,
        "id": "bK1ApYBqI_Yp"
      },
      "outputs": [],
      "source": [
        "MIN_COUNT = 3\n",
        "exclude = []"
      ]
    },
    {
      "cell_type": "code",
      "execution_count": null,
      "metadata": {
        "collapsed": true,
        "id": "fhTazff8I_Yq"
      },
      "outputs": [],
      "source": [
        "for w, c in word_count.items():\n",
        "    if c < MIN_COUNT:\n",
        "        exclude.append(w)\n",
        "exclude = set(exclude)"
      ]
    },
    {
      "cell_type": "markdown",
      "metadata": {
        "id": "Mx9b1bEqI_Yq"
      },
      "source": [
        "## Prepare Training data"
      ]
    },
    {
      "cell_type": "code",
      "execution_count": null,
      "metadata": {
        "collapsed": true,
        "id": "12mhdtfbI_Yr"
      },
      "outputs": [],
      "source": [
        "vocab = list(set(flatten(corpus)) - set(exclude))"
      ]
    },
    {
      "cell_type": "code",
      "execution_count": null,
      "metadata": {
        "collapsed": true,
        "id": "0TEymkLrI_Yr"
      },
      "outputs": [],
      "source": [
        "word2index = {}\n",
        "for vo in vocab:\n",
        "    if word2index.get(vo) is None:\n",
        "        word2index[vo] = len(word2index)\n",
        "        \n",
        "index2word = {v:k for k, v in word2index.items()}"
      ]
    },
    {
      "cell_type": "code",
      "execution_count": null,
      "metadata": {
        "collapsed": true,
        "id": "xjcgNgYGI_Ys"
      },
      "outputs": [],
      "source": [
        "WINDOW_SIZE = 5\n",
        "windows =  flatten([list(nltk.ngrams(['<DUMMY>'] * WINDOW_SIZE + c + ['<DUMMY>'] * WINDOW_SIZE, WINDOW_SIZE * 2 + 1)) for c in corpus])\n",
        "train_data = []\n",
        "\n",
        "for window in windows:\n",
        "    for i in range(WINDOW_SIZE * 2 + 1):\n",
        "        if window[i] in exclude or window[WINDOW_SIZE] in exclude: \n",
        "            continue # min_count\n",
        "        if i == WINDOW_SIZE or window[i] == '<DUMMY>': \n",
        "            continue\n",
        "        train_data.append((window[WINDOW_SIZE], window[i]))\n",
        "\n",
        "X_p = []\n",
        "y_p = []\n",
        "\n",
        "for tr in train_data:\n",
        "    X_p.append(prepare_word(tr[0], word2index).view(1, -1))\n",
        "    y_p.append(prepare_word(tr[1], word2index).view(1, -1))\n",
        "    \n",
        "train_data = list(zip(X_p, y_p))\n",
        "\n"
      ]
    },
    {
      "cell_type": "code",
      "execution_count": null,
      "metadata": {
        "colab": {
          "base_uri": "https://localhost:8080/"
        },
        "id": "KLQ1eg2cI_Ys",
        "outputId": "35c545bc-a3ac-4556-845e-cd43b652ccb7"
      },
      "outputs": [
        {
          "output_type": "execute_result",
          "data": {
            "text/plain": [
              "1148374"
            ]
          },
          "metadata": {},
          "execution_count": 13
        }
      ],
      "source": [
        "len(train_data)"
      ]
    },
    {
      "cell_type": "markdown",
      "metadata": {
        "id": "Yh_FgxaeI_Ys"
      },
      "source": [
        "### Build Unigram Distribution"
      ]
    },
    {
      "cell_type": "markdown",
      "metadata": {
        "id": "JsWomq54I_Yt"
      },
      "source": [
        "                                                    P(w)=U(w)3/4/Z"
      ]
    },
    {
      "cell_type": "code",
      "execution_count": null,
      "metadata": {
        "collapsed": true,
        "id": "DPH3vjhoI_Yt"
      },
      "outputs": [],
      "source": [
        "Z = 0.001"
      ]
    },
    {
      "cell_type": "code",
      "execution_count": null,
      "metadata": {
        "collapsed": true,
        "id": "eNDkaU1lI_Yt"
      },
      "outputs": [],
      "source": [
        "word_count = Counter(flatten(corpus))\n",
        "num_total_words = sum([c for w, c in word_count.items() if w not in exclude])"
      ]
    },
    {
      "cell_type": "code",
      "execution_count": null,
      "metadata": {
        "collapsed": true,
        "id": "csBpgB0XI_Yu"
      },
      "outputs": [],
      "source": [
        "unigram_table = []\n",
        "\n",
        "for vo in vocab:\n",
        "    unigram_table.extend([vo] * int(((word_count[vo]/num_total_words)**0.75)/Z))"
      ]
    },
    {
      "cell_type": "code",
      "execution_count": null,
      "metadata": {
        "colab": {
          "base_uri": "https://localhost:8080/"
        },
        "id": "3PZQZXsmI_Yu",
        "outputId": "071704cc-5e62-476a-a2bd-843de9327ce3"
      },
      "outputs": [
        {
          "output_type": "stream",
          "name": "stdout",
          "text": [
            "6200 3314\n"
          ]
        }
      ],
      "source": [
        "print(len(vocab), len(unigram_table))\n"
      ]
    },
    {
      "cell_type": "markdown",
      "metadata": {
        "id": "08LV3A_GI_Yu"
      },
      "source": [
        "### Negative Sampling "
      ]
    },
    {
      "cell_type": "code",
      "execution_count": null,
      "metadata": {
        "collapsed": true,
        "id": "GoA4hN7TI_Yu"
      },
      "outputs": [],
      "source": [
        "def negative_sampling(targets, unigram_table, k):\n",
        "    batch_size = targets.size(0)\n",
        "    neg_samples = []\n",
        "    for i in range(batch_size):\n",
        "        nsample = []\n",
        "        target_index = targets[i].data.cpu().tolist()[0] if USE_CUDA else targets[i].data.tolist()[0]\n",
        "        while len(nsample) < k: # num of sampling\n",
        "            neg = random.choice(unigram_table)\n",
        "            if word2index[neg] == target_index:\n",
        "                continue\n",
        "            nsample.append(neg)\n",
        "        neg_samples.append(prepare_sequence(nsample, word2index).view(1, -1))\n",
        "    \n",
        "    return torch.cat(neg_samples)"
      ]
    },
    {
      "cell_type": "markdown",
      "metadata": {
        "id": "1Nkys7vQI_Yv"
      },
      "source": [
        "### Modelling"
      ]
    },
    {
      "cell_type": "code",
      "execution_count": null,
      "metadata": {
        "collapsed": true,
        "id": "fVmffOPWI_Yv"
      },
      "outputs": [],
      "source": [
        "class SkipgramNegSampling(nn.Module):\n",
        "    \n",
        "    def __init__(self, vocab_size, projection_dim):\n",
        "        super(SkipgramNegSampling, self).__init__()\n",
        "        self.embedding_v = nn.Embedding(vocab_size, projection_dim) # center embedding\n",
        "        self.embedding_u = nn.Embedding(vocab_size, projection_dim) # out embedding\n",
        "        self.logsigmoid = nn.LogSigmoid()\n",
        "                \n",
        "        initrange = (2.0 / (vocab_size + projection_dim))**0.5 # Xavier init\n",
        "        self.embedding_v.weight.data.uniform_(-initrange, initrange) # init\n",
        "        self.embedding_u.weight.data.uniform_(-0.0, 0.0) # init\n",
        "        \n",
        "    def forward(self, center_words, target_words, negative_words):\n",
        "        center_embeds = self.embedding_v(center_words) # B x 1 x D\n",
        "        target_embeds = self.embedding_u(target_words) # B x 1 x D\n",
        "        \n",
        "        neg_embeds = -self.embedding_u(negative_words) # B x K x D\n",
        "        \n",
        "        positive_score = target_embeds.bmm(center_embeds.transpose(1, 2)).squeeze(2) # Bx1\n",
        "        negative_score = torch.sum(neg_embeds.bmm(center_embeds.transpose(1, 2)).squeeze(2), 1).view(negs.size(0), -1) # BxK -> Bx1\n",
        "        \n",
        "        loss = self.logsigmoid(positive_score) + self.logsigmoid(negative_score)\n",
        "        \n",
        "        return -torch.mean(loss)\n",
        "    \n",
        "    def prediction(self, inputs):\n",
        "        embeds = self.embedding_v(inputs)\n",
        "        \n",
        "        return embeds"
      ]
    },
    {
      "cell_type": "markdown",
      "metadata": {
        "id": "ff_uIvxvI_Yv"
      },
      "source": [
        "## Train"
      ]
    },
    {
      "cell_type": "code",
      "execution_count": null,
      "metadata": {
        "collapsed": true,
        "id": "_ckVdXnnI_Yw"
      },
      "outputs": [],
      "source": [
        "EMBEDDING_SIZE = 50\n",
        "BATCH_SIZE = 256\n",
        "EPOCH = 100\n",
        "NEG = 20 # Num of Negative Sampling"
      ]
    },
    {
      "cell_type": "code",
      "execution_count": null,
      "metadata": {
        "id": "PKqkknntI_Yw"
      },
      "outputs": [],
      "source": [
        "losses = []\n",
        "model = SkipgramNegSampling(len(word2index), EMBEDDING_SIZE)\n",
        "if USE_CUDA:\n",
        "    model = model.cuda()\n",
        "optimizer = optim.Adam(model.parameters(), lr=0.001)"
      ]
    },
    {
      "cell_type": "code",
      "execution_count": null,
      "metadata": {
        "colab": {
          "base_uri": "https://localhost:8080/"
        },
        "id": "aVrKQ3AlI_Yw",
        "outputId": "708bd27a-81c1-4674-edb8-a4080f607bd1"
      },
      "outputs": [
        {
          "output_type": "stream",
          "name": "stdout",
          "text": [
            "Epoch : 0, mean_loss : 0.70\n",
            "Epoch : 10, mean_loss : 0.52\n",
            "Epoch : 20, mean_loss : 0.45\n",
            "Epoch : 30, mean_loss : 0.43\n",
            "Epoch : 40, mean_loss : 0.42\n",
            "Epoch : 50, mean_loss : 0.41\n",
            "Epoch : 60, mean_loss : 0.41\n",
            "Epoch : 70, mean_loss : 0.40\n",
            "Epoch : 80, mean_loss : 0.40\n",
            "Epoch : 90, mean_loss : 0.40\n"
          ]
        }
      ],
      "source": [
        "for epoch in range(EPOCH):\n",
        "    for i,batch in enumerate(getBatch(BATCH_SIZE, train_data)):\n",
        "        \n",
        "        inputs, targets = zip(*batch)\n",
        "        \n",
        "        inputs = torch.cat(inputs) # B x 1\n",
        "        targets = torch.cat(targets) # B x 1\n",
        "        negs = negative_sampling(targets, unigram_table, NEG)\n",
        "        model.zero_grad()\n",
        "\n",
        "        loss = model(inputs, targets, negs)\n",
        "        \n",
        "        loss.backward()\n",
        "        optimizer.step()\n",
        "    \n",
        "        losses.append(loss.data.tolist())\n",
        "    if epoch % 10 == 0:\n",
        "        print(\"Epoch : %d, mean_loss : %.02f\" % (epoch, np.mean(losses)))\n",
        "        losses = []\n"
      ]
    },
    {
      "cell_type": "markdown",
      "metadata": {
        "id": "Wjm0aeeOI_Yx"
      },
      "source": [
        "## Test"
      ]
    },
    {
      "cell_type": "code",
      "source": [
        "vectors_v = []\n",
        "vectors_u = []\n",
        "vectors_m = []\n",
        "\n",
        "v_weight = lambda word: model.embedding_v(prepare_word(word, word2index))[0].data.tolist()\n",
        "u_weight = lambda word: model.embedding_u(prepare_word(word, word2index))[0].data.tolist()\n",
        "mean_weight = lambda word: list((np.asarray(v_weight(word)) + np.asarray(u_weight(word)))/2.)\n",
        "\n",
        "for word in vocab:\n",
        "  vectors_v.append(v_weight(word))\n",
        "  vectors_u.append(u_weight(word))\n",
        "  vectors_m.append(mean_weight(word))"
      ],
      "metadata": {
        "id": "UcABnwevoHf8"
      },
      "execution_count": null,
      "outputs": []
    },
    {
      "cell_type": "code",
      "source": [
        ""
      ],
      "metadata": {
        "id": "XITHM66nv5eQ"
      },
      "execution_count": null,
      "outputs": []
    },
    {
      "cell_type": "code",
      "source": [
        "embedding_dict_v = {}\n",
        "embedding_dict_u = {}\n",
        "embedding_dict_m = {}\n",
        "\n",
        "for i, word in enumerate(vocab):\n",
        "  embedding_dict_v[word] = vectors_v[i]\n",
        "  embedding_dict_u[word] = vectors_u[i]\n",
        "  embedding_dict_m[word] = vectors_m[i]"
      ],
      "metadata": {
        "id": "ucEdbNIGjRsD"
      },
      "execution_count": null,
      "outputs": []
    },
    {
      "cell_type": "code",
      "source": [
        "import pickle"
      ],
      "metadata": {
        "id": "6uE5xSxer0es"
      },
      "execution_count": null,
      "outputs": []
    },
    {
      "cell_type": "code",
      "source": [
        "model_data_v = {'embeddings': embedding_dict_v, 'dim':50, 'neg':20, 'batch_size': 256}\n",
        "model_data_u = {'embeddings': embedding_dict_u, 'dim':50, 'neg':20, 'batch_size': 256}\n",
        "model_data_m = {'embeddings': embedding_dict_m, 'dim':50, 'neg':20, 'batch_size': 256}\n",
        "\n",
        "with open(\"saved_weights_v_pytorch.pkl\", 'wb') as file:\n",
        "  pickle.dump(model_data_v, file)\n",
        "  \n",
        "with open(\"saved_weights_u_pytorch.pkl\", 'wb') as file:\n",
        "  pickle.dump(model_data_u, file)\n",
        "\n",
        "with open(\"saved_weights_m_pytorch.pkl\", 'wb') as file:\n",
        "  pickle.dump(model_data_m, file)"
      ],
      "metadata": {
        "id": "Prt_DqInqmA0"
      },
      "execution_count": null,
      "outputs": []
    },
    {
      "cell_type": "code",
      "source": [
        "out_v = io.open('vectors_v_pytorch.tsv', 'w', encoding='utf-8')\n",
        "out_u = io.open('vectors_u_pytorch.tsv', 'w', encoding='utf-8')\n",
        "out_m = io.open('vectors_m_pytorch.tsv', 'w', encoding='utf-8')\n",
        "out_meta = io.open('metadata_pytorch.tsv', 'w', encoding='utf-8')\n",
        "\n",
        "for index, word in enumerate(vocab):\n",
        "  if index == 0:\n",
        "    continue  # skip 0, it's padding.\n",
        "  vec = vectors_v[index]\n",
        "  out_v.write('\\t'.join([str(x) for x in vec]) + \"\\n\")\n",
        "\n",
        "  vec = vectors_u[index]\n",
        "  out_u.write('\\t'.join([str(x) for x in vec]) + \"\\n\")\n",
        "\n",
        "  vec = vectors_m[index]\n",
        "  out_m.write('\\t'.join([str(x) for x in vec]) + \"\\n\")\n",
        "\n",
        "  out_meta.write(word + \"\\n\")\n",
        "out_v.close()\n",
        "out_meta.close()"
      ],
      "metadata": {
        "id": "lxe95rxPtBCq"
      },
      "execution_count": null,
      "outputs": []
    },
    {
      "cell_type": "code",
      "source": [
        "try:\n",
        "  from google.colab import files\n",
        "  files.download('vectors_v_pytorch.tsv')\n",
        "  files.download('vectors_u_pytorch.tsv')\n",
        "  files.download('vectors_m_pytorch.tsv')\n",
        "  files.download('saved_weights_v_pytorch.pkl')\n",
        "  files.download('saved_weights_u_pytorch.pkl')\n",
        "  files.download('saved_weights_m_pytorch.pkl')\n",
        "  files.download('metadata_pytorch.tsv')\n",
        "except Exception:\n",
        "  pass"
      ],
      "metadata": {
        "colab": {
          "base_uri": "https://localhost:8080/",
          "height": 17
        },
        "id": "qgo3gWt4toe7",
        "outputId": "beb8dd05-9cc7-4efb-e357-20c29f79c903"
      },
      "execution_count": 78,
      "outputs": [
        {
          "output_type": "display_data",
          "data": {
            "text/plain": [
              "<IPython.core.display.Javascript object>"
            ],
            "application/javascript": [
              "\n",
              "    async function download(id, filename, size) {\n",
              "      if (!google.colab.kernel.accessAllowed) {\n",
              "        return;\n",
              "      }\n",
              "      const div = document.createElement('div');\n",
              "      const label = document.createElement('label');\n",
              "      label.textContent = `Downloading \"${filename}\": `;\n",
              "      div.appendChild(label);\n",
              "      const progress = document.createElement('progress');\n",
              "      progress.max = size;\n",
              "      div.appendChild(progress);\n",
              "      document.body.appendChild(div);\n",
              "\n",
              "      const buffers = [];\n",
              "      let downloaded = 0;\n",
              "\n",
              "      const channel = await google.colab.kernel.comms.open(id);\n",
              "      // Send a message to notify the kernel that we're ready.\n",
              "      channel.send({})\n",
              "\n",
              "      for await (const message of channel.messages) {\n",
              "        // Send a message to notify the kernel that we're ready.\n",
              "        channel.send({})\n",
              "        if (message.buffers) {\n",
              "          for (const buffer of message.buffers) {\n",
              "            buffers.push(buffer);\n",
              "            downloaded += buffer.byteLength;\n",
              "            progress.value = downloaded;\n",
              "          }\n",
              "        }\n",
              "      }\n",
              "      const blob = new Blob(buffers, {type: 'application/binary'});\n",
              "      const a = document.createElement('a');\n",
              "      a.href = window.URL.createObjectURL(blob);\n",
              "      a.download = filename;\n",
              "      div.appendChild(a);\n",
              "      a.click();\n",
              "      div.remove();\n",
              "    }\n",
              "  "
            ]
          },
          "metadata": {}
        },
        {
          "output_type": "display_data",
          "data": {
            "text/plain": [
              "<IPython.core.display.Javascript object>"
            ],
            "application/javascript": [
              "download(\"download_be36b8a4-eda4-4dcb-96a7-d98b5ef47f40\", \"vectors_v_pytorch.tsv\", 5998682)"
            ]
          },
          "metadata": {}
        },
        {
          "output_type": "display_data",
          "data": {
            "text/plain": [
              "<IPython.core.display.Javascript object>"
            ],
            "application/javascript": [
              "\n",
              "    async function download(id, filename, size) {\n",
              "      if (!google.colab.kernel.accessAllowed) {\n",
              "        return;\n",
              "      }\n",
              "      const div = document.createElement('div');\n",
              "      const label = document.createElement('label');\n",
              "      label.textContent = `Downloading \"${filename}\": `;\n",
              "      div.appendChild(label);\n",
              "      const progress = document.createElement('progress');\n",
              "      progress.max = size;\n",
              "      div.appendChild(progress);\n",
              "      document.body.appendChild(div);\n",
              "\n",
              "      const buffers = [];\n",
              "      let downloaded = 0;\n",
              "\n",
              "      const channel = await google.colab.kernel.comms.open(id);\n",
              "      // Send a message to notify the kernel that we're ready.\n",
              "      channel.send({})\n",
              "\n",
              "      for await (const message of channel.messages) {\n",
              "        // Send a message to notify the kernel that we're ready.\n",
              "        channel.send({})\n",
              "        if (message.buffers) {\n",
              "          for (const buffer of message.buffers) {\n",
              "            buffers.push(buffer);\n",
              "            downloaded += buffer.byteLength;\n",
              "            progress.value = downloaded;\n",
              "          }\n",
              "        }\n",
              "      }\n",
              "      const blob = new Blob(buffers, {type: 'application/binary'});\n",
              "      const a = document.createElement('a');\n",
              "      a.href = window.URL.createObjectURL(blob);\n",
              "      a.download = filename;\n",
              "      div.appendChild(a);\n",
              "      a.click();\n",
              "      div.remove();\n",
              "    }\n",
              "  "
            ]
          },
          "metadata": {}
        },
        {
          "output_type": "display_data",
          "data": {
            "text/plain": [
              "<IPython.core.display.Javascript object>"
            ],
            "application/javascript": [
              "download(\"download_311ef056-ddf3-421f-9ca0-8ce22ceab5cb\", \"vectors_u_pytorch.tsv\", 5909758)"
            ]
          },
          "metadata": {}
        },
        {
          "output_type": "display_data",
          "data": {
            "text/plain": [
              "<IPython.core.display.Javascript object>"
            ],
            "application/javascript": [
              "\n",
              "    async function download(id, filename, size) {\n",
              "      if (!google.colab.kernel.accessAllowed) {\n",
              "        return;\n",
              "      }\n",
              "      const div = document.createElement('div');\n",
              "      const label = document.createElement('label');\n",
              "      label.textContent = `Downloading \"${filename}\": `;\n",
              "      div.appendChild(label);\n",
              "      const progress = document.createElement('progress');\n",
              "      progress.max = size;\n",
              "      div.appendChild(progress);\n",
              "      document.body.appendChild(div);\n",
              "\n",
              "      const buffers = [];\n",
              "      let downloaded = 0;\n",
              "\n",
              "      const channel = await google.colab.kernel.comms.open(id);\n",
              "      // Send a message to notify the kernel that we're ready.\n",
              "      channel.send({})\n",
              "\n",
              "      for await (const message of channel.messages) {\n",
              "        // Send a message to notify the kernel that we're ready.\n",
              "        channel.send({})\n",
              "        if (message.buffers) {\n",
              "          for (const buffer of message.buffers) {\n",
              "            buffers.push(buffer);\n",
              "            downloaded += buffer.byteLength;\n",
              "            progress.value = downloaded;\n",
              "          }\n",
              "        }\n",
              "      }\n",
              "      const blob = new Blob(buffers, {type: 'application/binary'});\n",
              "      const a = document.createElement('a');\n",
              "      a.href = window.URL.createObjectURL(blob);\n",
              "      a.download = filename;\n",
              "      div.appendChild(a);\n",
              "      a.click();\n",
              "      div.remove();\n",
              "    }\n",
              "  "
            ]
          },
          "metadata": {}
        },
        {
          "output_type": "display_data",
          "data": {
            "text/plain": [
              "<IPython.core.display.Javascript object>"
            ],
            "application/javascript": [
              "download(\"download_6bd7b4cf-cb29-4f9b-b84e-b9d71d090036\", \"vectors_m_pytorch.tsv\", 5965056)"
            ]
          },
          "metadata": {}
        },
        {
          "output_type": "display_data",
          "data": {
            "text/plain": [
              "<IPython.core.display.Javascript object>"
            ],
            "application/javascript": [
              "\n",
              "    async function download(id, filename, size) {\n",
              "      if (!google.colab.kernel.accessAllowed) {\n",
              "        return;\n",
              "      }\n",
              "      const div = document.createElement('div');\n",
              "      const label = document.createElement('label');\n",
              "      label.textContent = `Downloading \"${filename}\": `;\n",
              "      div.appendChild(label);\n",
              "      const progress = document.createElement('progress');\n",
              "      progress.max = size;\n",
              "      div.appendChild(progress);\n",
              "      document.body.appendChild(div);\n",
              "\n",
              "      const buffers = [];\n",
              "      let downloaded = 0;\n",
              "\n",
              "      const channel = await google.colab.kernel.comms.open(id);\n",
              "      // Send a message to notify the kernel that we're ready.\n",
              "      channel.send({})\n",
              "\n",
              "      for await (const message of channel.messages) {\n",
              "        // Send a message to notify the kernel that we're ready.\n",
              "        channel.send({})\n",
              "        if (message.buffers) {\n",
              "          for (const buffer of message.buffers) {\n",
              "            buffers.push(buffer);\n",
              "            downloaded += buffer.byteLength;\n",
              "            progress.value = downloaded;\n",
              "          }\n",
              "        }\n",
              "      }\n",
              "      const blob = new Blob(buffers, {type: 'application/binary'});\n",
              "      const a = document.createElement('a');\n",
              "      a.href = window.URL.createObjectURL(blob);\n",
              "      a.download = filename;\n",
              "      div.appendChild(a);\n",
              "      a.click();\n",
              "      div.remove();\n",
              "    }\n",
              "  "
            ]
          },
          "metadata": {}
        },
        {
          "output_type": "display_data",
          "data": {
            "text/plain": [
              "<IPython.core.display.Javascript object>"
            ],
            "application/javascript": [
              "download(\"download_3e170706-84c4-439c-87e4-8d5ef7d5ec94\", \"saved_weights_v_pytorch.pkl\", 2964256)"
            ]
          },
          "metadata": {}
        },
        {
          "output_type": "display_data",
          "data": {
            "text/plain": [
              "<IPython.core.display.Javascript object>"
            ],
            "application/javascript": [
              "\n",
              "    async function download(id, filename, size) {\n",
              "      if (!google.colab.kernel.accessAllowed) {\n",
              "        return;\n",
              "      }\n",
              "      const div = document.createElement('div');\n",
              "      const label = document.createElement('label');\n",
              "      label.textContent = `Downloading \"${filename}\": `;\n",
              "      div.appendChild(label);\n",
              "      const progress = document.createElement('progress');\n",
              "      progress.max = size;\n",
              "      div.appendChild(progress);\n",
              "      document.body.appendChild(div);\n",
              "\n",
              "      const buffers = [];\n",
              "      let downloaded = 0;\n",
              "\n",
              "      const channel = await google.colab.kernel.comms.open(id);\n",
              "      // Send a message to notify the kernel that we're ready.\n",
              "      channel.send({})\n",
              "\n",
              "      for await (const message of channel.messages) {\n",
              "        // Send a message to notify the kernel that we're ready.\n",
              "        channel.send({})\n",
              "        if (message.buffers) {\n",
              "          for (const buffer of message.buffers) {\n",
              "            buffers.push(buffer);\n",
              "            downloaded += buffer.byteLength;\n",
              "            progress.value = downloaded;\n",
              "          }\n",
              "        }\n",
              "      }\n",
              "      const blob = new Blob(buffers, {type: 'application/binary'});\n",
              "      const a = document.createElement('a');\n",
              "      a.href = window.URL.createObjectURL(blob);\n",
              "      a.download = filename;\n",
              "      div.appendChild(a);\n",
              "      a.click();\n",
              "      div.remove();\n",
              "    }\n",
              "  "
            ]
          },
          "metadata": {}
        },
        {
          "output_type": "display_data",
          "data": {
            "text/plain": [
              "<IPython.core.display.Javascript object>"
            ],
            "application/javascript": [
              "download(\"download_cde48ed8-87df-451f-afa8-ee23af86625d\", \"saved_weights_u_pytorch.pkl\", 2964256)"
            ]
          },
          "metadata": {}
        },
        {
          "output_type": "display_data",
          "data": {
            "text/plain": [
              "<IPython.core.display.Javascript object>"
            ],
            "application/javascript": [
              "\n",
              "    async function download(id, filename, size) {\n",
              "      if (!google.colab.kernel.accessAllowed) {\n",
              "        return;\n",
              "      }\n",
              "      const div = document.createElement('div');\n",
              "      const label = document.createElement('label');\n",
              "      label.textContent = `Downloading \"${filename}\": `;\n",
              "      div.appendChild(label);\n",
              "      const progress = document.createElement('progress');\n",
              "      progress.max = size;\n",
              "      div.appendChild(progress);\n",
              "      document.body.appendChild(div);\n",
              "\n",
              "      const buffers = [];\n",
              "      let downloaded = 0;\n",
              "\n",
              "      const channel = await google.colab.kernel.comms.open(id);\n",
              "      // Send a message to notify the kernel that we're ready.\n",
              "      channel.send({})\n",
              "\n",
              "      for await (const message of channel.messages) {\n",
              "        // Send a message to notify the kernel that we're ready.\n",
              "        channel.send({})\n",
              "        if (message.buffers) {\n",
              "          for (const buffer of message.buffers) {\n",
              "            buffers.push(buffer);\n",
              "            downloaded += buffer.byteLength;\n",
              "            progress.value = downloaded;\n",
              "          }\n",
              "        }\n",
              "      }\n",
              "      const blob = new Blob(buffers, {type: 'application/binary'});\n",
              "      const a = document.createElement('a');\n",
              "      a.href = window.URL.createObjectURL(blob);\n",
              "      a.download = filename;\n",
              "      div.appendChild(a);\n",
              "      a.click();\n",
              "      div.remove();\n",
              "    }\n",
              "  "
            ]
          },
          "metadata": {}
        },
        {
          "output_type": "display_data",
          "data": {
            "text/plain": [
              "<IPython.core.display.Javascript object>"
            ],
            "application/javascript": [
              "download(\"download_b9f45da5-161a-4e47-9a48-4f46a31c9d96\", \"saved_weights_m_pytorch.pkl\", 9784367)"
            ]
          },
          "metadata": {}
        },
        {
          "output_type": "display_data",
          "data": {
            "text/plain": [
              "<IPython.core.display.Javascript object>"
            ],
            "application/javascript": [
              "\n",
              "    async function download(id, filename, size) {\n",
              "      if (!google.colab.kernel.accessAllowed) {\n",
              "        return;\n",
              "      }\n",
              "      const div = document.createElement('div');\n",
              "      const label = document.createElement('label');\n",
              "      label.textContent = `Downloading \"${filename}\": `;\n",
              "      div.appendChild(label);\n",
              "      const progress = document.createElement('progress');\n",
              "      progress.max = size;\n",
              "      div.appendChild(progress);\n",
              "      document.body.appendChild(div);\n",
              "\n",
              "      const buffers = [];\n",
              "      let downloaded = 0;\n",
              "\n",
              "      const channel = await google.colab.kernel.comms.open(id);\n",
              "      // Send a message to notify the kernel that we're ready.\n",
              "      channel.send({})\n",
              "\n",
              "      for await (const message of channel.messages) {\n",
              "        // Send a message to notify the kernel that we're ready.\n",
              "        channel.send({})\n",
              "        if (message.buffers) {\n",
              "          for (const buffer of message.buffers) {\n",
              "            buffers.push(buffer);\n",
              "            downloaded += buffer.byteLength;\n",
              "            progress.value = downloaded;\n",
              "          }\n",
              "        }\n",
              "      }\n",
              "      const blob = new Blob(buffers, {type: 'application/binary'});\n",
              "      const a = document.createElement('a');\n",
              "      a.href = window.URL.createObjectURL(blob);\n",
              "      a.download = filename;\n",
              "      div.appendChild(a);\n",
              "      a.click();\n",
              "      div.remove();\n",
              "    }\n",
              "  "
            ]
          },
          "metadata": {}
        },
        {
          "output_type": "display_data",
          "data": {
            "text/plain": [
              "<IPython.core.display.Javascript object>"
            ],
            "application/javascript": [
              "download(\"download_c2d31db5-7a91-4a57-bb6f-57e8a580906b\", \"metadata_pytorch.tsv\", 69507)"
            ]
          },
          "metadata": {}
        }
      ]
    },
    {
      "cell_type": "code",
      "execution_count": 76,
      "metadata": {
        "collapsed": true,
        "id": "0EyjjPgKI_Yx"
      },
      "outputs": [],
      "source": [
        "def word_similarity(target, vocab):\n",
        "    if USE_CUDA:\n",
        "        target_V = model.prediction(prepare_word(target, word2index))\n",
        "    else:\n",
        "        target_V = model.prediction(prepare_word(target, word2index))\n",
        "    similarities = []\n",
        "    for i in range(len(vocab)):\n",
        "        if vocab[i] == target: \n",
        "            continue\n",
        "        \n",
        "        if USE_CUDA:\n",
        "            vector = model.prediction(prepare_word(list(vocab)[i], word2index))\n",
        "        else:\n",
        "            vector = model.prediction(prepare_word(list(vocab)[i], word2index))\n",
        "        \n",
        "        cosine_sim = F.cosine_similarity(target_V, vector).data.tolist()[0]\n",
        "        similarities.append([vocab[i], cosine_sim])\n",
        "    return sorted(similarities, key=lambda x: x[1], reverse=True)[:20]"
      ]
    },
    {
      "cell_type": "code",
      "execution_count": 74,
      "metadata": {
        "colab": {
          "base_uri": "https://localhost:8080/",
          "height": 36
        },
        "id": "1RN2Xh_qI_Yx",
        "outputId": "4c4fc294-57c2-485c-8b1d-23b7e5be696d"
      },
      "outputs": [
        {
          "output_type": "execute_result",
          "data": {
            "text/plain": [
              "'حقائق'"
            ],
            "application/vnd.google.colaboratory.intrinsic+json": {
              "type": "string"
            }
          },
          "metadata": {},
          "execution_count": 74
        }
      ],
      "source": [
        "test = random.choice(list(vocab))\n",
        "test"
      ]
    },
    {
      "cell_type": "code",
      "execution_count": 79,
      "metadata": {
        "colab": {
          "base_uri": "https://localhost:8080/"
        },
        "id": "uEtUluEkI_Yy",
        "outputId": "47188de1-0d7d-4e26-bdb6-5d242edd7a74"
      },
      "outputs": [
        {
          "output_type": "execute_result",
          "data": {
            "text/plain": [
              "[['ينتهي', 0.5445147752761841],\n",
              " ['الحق.', 0.5320985913276672],\n",
              " ['حكيم', 0.5094931125640869],\n",
              " ['يقوله', 0.5041706562042236],\n",
              " ['فرد', 0.4950423538684845],\n",
              " ['ربهم', 0.4870917797088623],\n",
              " ['سا', 0.464834988117218],\n",
              " ['البخل', 0.4620210528373718],\n",
              " ['ديني', 0.4564393162727356],\n",
              " ['يد', 0.452975332736969]]"
            ]
          },
          "metadata": {},
          "execution_count": 79
        }
      ],
      "source": [
        "word_similarity('الصراط', vocab)"
      ]
    },
    {
      "cell_type": "code",
      "source": [
        "import pickle\n",
        "\n",
        "def load_model(path):\n",
        "    with open(path, 'rb') as file:\n",
        "        data = pickle.load(file)\n",
        "    return data\n",
        "\n",
        "data_v = load_model('saved_weights_v_pytorch.pkl')\n",
        "embeddings = data_v['embeddings']"
      ],
      "metadata": {
        "id": "xcHIhVBMffJ8"
      },
      "execution_count": 1,
      "outputs": []
    },
    {
      "cell_type": "code",
      "source": [
        "from sklearn.metrics.pairwise import cosine_similarity, euclidean_distances\n",
        "import random\n",
        "import numpy as np"
      ],
      "metadata": {
        "id": "2cNhL8ZditiX"
      },
      "execution_count": 15,
      "outputs": []
    },
    {
      "cell_type": "code",
      "source": [
        "def find_closest_word(word, k, dist_type, embeddings):\n",
        "    most_closest_words = []\n",
        "    word_emb = embeddings[word]\n",
        "    similar_word = ''\n",
        "    \n",
        "    for w in embeddings.keys():\n",
        "        if w != word:\n",
        "            # get the word embedding\n",
        "            w_emb = embeddings[w]\n",
        "            # calculating distance\n",
        "            if dist_type == \"Cosine\":\n",
        "                distance = cosine_similarity(np.asarray(word_emb).reshape(1,-1), np.asarray(w_emb).reshape(1,-1))\n",
        "            elif dist_type == \"Euclidean\":\n",
        "                distance = euclidean_distances(np.asarray(word_emb).reshape(1,-1), np.asarray(w_emb).reshape(1,-1))\n",
        "\n",
        "            # store the similar_word as a tuple, which contains the word and the similarity\n",
        "            similar_word = (w, distance)\n",
        "            # append each tuple to list\n",
        "            most_closest_words.append(similar_word)\n",
        "    # sort based on more similarity\n",
        "    most_closest_words.sort(key=lambda y: -y[1])\n",
        "    return most_closest_words[:k]"
      ],
      "metadata": {
        "id": "DdTgUfYUhRtc"
      },
      "execution_count": 11,
      "outputs": []
    },
    {
      "cell_type": "code",
      "source": [
        "def test_neighbours(distance_type='Cosine', embeddings=embeddings):\n",
        "  for i in range(10):\n",
        "    vocab = embeddings.keys()\n",
        "    word = random.choice(list(vocab))\n",
        "    neighbours = find_closest_word(word, 20, 'Cosine', embeddings)\n",
        "    print(f'{word}:')\n",
        "    for neighbour in neighbours:\n",
        "      print(f'{neighbour[0]} : {neighbour[1][0][0]:.4f}')\n",
        "    print()"
      ],
      "metadata": {
        "id": "oS27E7Q4bJUk"
      },
      "execution_count": 31,
      "outputs": []
    },
    {
      "cell_type": "code",
      "source": [
        "test_neighbours()"
      ],
      "metadata": {
        "colab": {
          "base_uri": "https://localhost:8080/"
        },
        "id": "fenrFu6qinGy",
        "outputId": "97cb4525-8d77-4ee1-d5cc-f2cebb6b8c44"
      },
      "execution_count": 33,
      "outputs": [
        {
          "output_type": "stream",
          "name": "stdout",
          "text": [
            "تهتدي:\n",
            "قواه : 0.7246\n",
            "أساس : 0.6755\n",
            "الإنسان : 0.6427\n",
            "أفراد : 0.6398\n",
            "الشعور : 0.6372\n",
            "باعتقاد : 0.6195\n",
            "القوى : 0.6191\n",
            "الفطرة : 0.6013\n",
            "بالفعل : 0.6001\n",
            "الإنساني : 0.5962\n",
            "الاجتماع : 0.5904\n",
            "يتوجه : 0.5901\n",
            "إلغا : 0.5894\n",
            "تشريك : 0.5890\n",
            "الاجتماعات : 0.5824\n",
            "الاجتماعي : 0.5782\n",
            "المدني : 0.5776\n",
            "وجودا : 0.5749\n",
            "مرتبط : 0.5746\n",
            "الإنسانية : 0.5722\n",
            "\n",
            "أشار:\n",
            "الخالي : 0.5774\n",
            "مقابلته : 0.5652\n",
            "آتيه : 0.5592\n",
            "يجوزه : 0.5571\n",
            "بالكلام : 0.5525\n",
            "ذكره : 0.5471\n",
            "توضيح : 0.5409\n",
            "العطف : 0.5255\n",
            "خصوص : 0.5240\n",
            "مر. : 0.5191\n",
            "الوجه : 0.5106\n",
            "بحق : 0.5074\n",
            "إطلاق : 0.5013\n",
            "فسر : 0.5006\n",
            "يؤيده : 0.4986\n",
            "يسلم : 0.4984\n",
            "الفضل : 0.4977\n",
            "مسوق : 0.4974\n",
            "الوالد : 0.4970\n",
            "الغرض : 0.4957\n",
            "\n",
            "اكتسبت:\n",
            "السموت : 0.6005\n",
            "الجميل : 0.5411\n",
            "نكتب : 0.5232\n",
            "جعلنا : 0.5216\n",
            "كسبتم : 0.5184\n",
            "باليوم : 0.5178\n",
            "ننزله : 0.5175\n",
            "خلفهم : 0.5146\n",
            "المولى : 0.5135\n",
            "مصيبة : 0.5130\n",
            "حسن : 0.5102\n",
            "نسوا : 0.5012\n",
            "الإنس : 0.4988\n",
            "فأطلق : 0.4981\n",
            "غنى : 0.4909\n",
            "قائما : 0.4810\n",
            "تؤاخذنا : 0.4708\n",
            "شئت : 0.4697\n",
            "يتعدى : 0.4688\n",
            "يستر : 0.4668\n",
            "\n",
            "عني:\n",
            "لهو : 0.5735\n",
            "بي : 0.5643\n",
            "بيدي : 0.5628\n",
            "الغالبون : 0.5545\n",
            "ربك : 0.5539\n",
            "قال : 0.5442\n",
            "تجتنبوا : 0.5431\n",
            "كبائر : 0.5354\n",
            "جندنا : 0.5194\n",
            "الفطر : 0.5149\n",
            "سألك : 0.5108\n",
            "أرسلنا : 0.5060\n",
            "ادعوني : 0.5021\n",
            "المهدي : 0.4949\n",
            "لعب : 0.4938\n",
            "آثارهم : 0.4679\n",
            "البصر : 0.4647\n",
            "تنهون : 0.4638\n",
            "كنا : 0.4632\n",
            "يعقلها : 0.4622\n",
            "\n",
            "أبا:\n",
            "فقال : 0.7609\n",
            "لأبي : 0.7569\n",
            "علي : 0.7425\n",
            "قال : 0.7204\n",
            "أمير : 0.7177\n",
            "يا : 0.7084\n",
            "جعفر : 0.7040\n",
            "نأخذ : 0.6996\n",
            "ذر : 0.6991\n",
            "عبد : 0.6971\n",
            "السلام : 0.6956\n",
            "جعلت : 0.6955\n",
            "محمد : 0.6817\n",
            "رسول : 0.6703\n",
            "فقلت : 0.6597\n",
            "قلت : 0.6592\n",
            "وسلم : 0.6514\n",
            "طالب : 0.6445\n",
            "داود : 0.6434\n",
            "وآله : 0.6399\n",
            "\n",
            "سألت:\n",
            "الوليد : 0.6319\n",
            "حفص : 0.6309\n",
            "الكافي : 0.6254\n",
            "فاسأل : 0.6228\n",
            "الباقر : 0.6116\n",
            "زرارة : 0.6106\n",
            "البرا : 0.6100\n",
            "عليه : 0.6074\n",
            "الحلبي : 0.6051\n",
            "الإحتجاج : 0.6017\n",
            "بإسناده : 0.5951\n",
            "الصدوق : 0.5910\n",
            "نباتة : 0.5908\n",
            "الفقيه : 0.5872\n",
            "أنس : 0.5776\n",
            "الصادق : 0.5771\n",
            "أمامة : 0.5767\n",
            "لموسى : 0.5715\n",
            "فإني : 0.5623\n",
            "الرضا : 0.5541\n",
            "\n",
            "حجة:\n",
            "الوداع : 0.6613\n",
            "حج : 0.5517\n",
            "سنة : 0.5437\n",
            "الأنصار : 0.5181\n",
            "أربعة : 0.5054\n",
            "يلقي : 0.4892\n",
            "العرب : 0.4821\n",
            "بعثة : 0.4812\n",
            "دعوتهم : 0.4789\n",
            "مائة : 0.4705\n",
            "فتح : 0.4626\n",
            "فرق : 0.4602\n",
            "للناس : 0.4588\n",
            "قبل : 0.4568\n",
            "درجة : 0.4553\n",
            "تعد : 0.4536\n",
            "تحت : 0.4526\n",
            "الشرط : 0.4519\n",
            "القعدة : 0.4511\n",
            "ذكرها : 0.4498\n",
            "\n",
            "يخفى:\n",
            "لفعل : 0.5866\n",
            "الواسع : 0.5204\n",
            "يبقى : 0.5143\n",
            "أصلا : 0.5036\n",
            "يتخلف : 0.4886\n",
            "شي : 0.4855\n",
            "بالمعروف : 0.4775\n",
            "يدل : 0.4717\n",
            "خلاف : 0.4717\n",
            "ترك : 0.4599\n",
            "عقد : 0.4582\n",
            "يعلمكم : 0.4574\n",
            "قبله : 0.4572\n",
            "تصرفه : 0.4541\n",
            "رد : 0.4519\n",
            "لدفع : 0.4516\n",
            "بشي : 0.4477\n",
            "لوجه : 0.4473\n",
            "إليهم : 0.4443\n",
            "بالأمر : 0.4443\n",
            "\n",
            "تدفع:\n",
            "سؤالا : 0.6175\n",
            "بالفطرة : 0.5528\n",
            "سيئات : 0.5305\n",
            "ضرع : 0.5121\n",
            "حفظا : 0.5119\n",
            "ينبغي : 0.4975\n",
            "الجد : 0.4950\n",
            "الحركة : 0.4946\n",
            "عمرا : 0.4923\n",
            "المشية : 0.4912\n",
            "يرتاب : 0.4860\n",
            "الاستخفاف : 0.4836\n",
            "يغلط : 0.4802\n",
            "الحصول : 0.4778\n",
            "يركب : 0.4759\n",
            "يتوهم : 0.4746\n",
            "عوامل : 0.4733\n",
            "السكن : 0.4725\n",
            "يعارضه : 0.4643\n",
            "للملك : 0.4620\n",
            "\n",
            "ستر:\n",
            "النفسانية : 0.6572\n",
            "النشأة : 0.6349\n",
            "العملي : 0.6196\n",
            "الإنسان : 0.6165\n",
            "لنفع : 0.5896\n",
            "محالة : 0.5878\n",
            "يستحقه : 0.5871\n",
            "تصرف : 0.5855\n",
            "يكتسب : 0.5712\n",
            "تهتدي : 0.5703\n",
            "إنسانا : 0.5701\n",
            "الوجود : 0.5678\n",
            "العقل : 0.5664\n",
            "حال : 0.5610\n",
            "ضم : 0.5603\n",
            "لطيف : 0.5555\n",
            "الخلقية : 0.5553\n",
            "يستقر : 0.5413\n",
            "أثرا : 0.5400\n",
            "يزول : 0.5397\n",
            "\n"
          ]
        }
      ]
    },
    {
      "cell_type": "code",
      "source": [
        ""
      ],
      "metadata": {
        "id": "O5vIiR-vip8N"
      },
      "execution_count": null,
      "outputs": []
    }
  ],
  "metadata": {
    "kernelspec": {
      "display_name": "Python 3 (ipykernel)",
      "language": "python",
      "name": "python3"
    },
    "language_info": {
      "codemirror_mode": {
        "name": "ipython",
        "version": 3
      },
      "file_extension": ".py",
      "mimetype": "text/x-python",
      "name": "python",
      "nbconvert_exporter": "python",
      "pygments_lexer": "ipython3",
      "version": "3.9.7"
    },
    "colab": {
      "name": "NegativeSampling_Skipgram.ipynb",
      "provenance": []
    }
  },
  "nbformat": 4,
  "nbformat_minor": 0
}